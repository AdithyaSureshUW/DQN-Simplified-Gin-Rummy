{
  "nbformat": 4,
  "nbformat_minor": 0,
  "metadata": {
    "colab": {
      "name": "DQN Gin Rummy",
      "provenance": [],
      "collapsed_sections": []
    },
    "kernelspec": {
      "name": "python3",
      "display_name": "Python 3"
    },
    "language_info": {
      "name": "python"
    },
    "accelerator": "GPU"
  },
  "cells": [
    {
      "cell_type": "markdown",
      "source": [
        "# Imports"
      ],
      "metadata": {
        "id": "kqFI2nGR9-tj"
      }
    },
    {
      "cell_type": "code",
      "source": [
        "import sys\n",
        "import random\n",
        "import numpy as np\n",
        "\n",
        "import gym\n",
        "from gym import error, spaces, utils\n",
        "from gym.utils import seeding\n",
        "\n",
        "import time\n",
        "\n",
        "from keras.models import Sequential\n",
        "from keras.layers import *\n",
        "from keras.optimizers import *\n",
        "\n",
        "from keras import backend as K\n",
        "import tensorflow as tf\n",
        "\n",
        "import math"
      ],
      "metadata": {
        "id": "-txrInkmS9sq"
      },
      "execution_count": 1,
      "outputs": []
    },
    {
      "cell_type": "markdown",
      "source": [
        "# Create Gin Rummy Environment"
      ],
      "metadata": {
        "id": "VhropEU4-Da_"
      }
    },
    {
      "cell_type": "code",
      "execution_count": 2,
      "metadata": {
        "id": "1t8XPfHH3jBU"
      },
      "outputs": [],
      "source": [
        "class Deck:\n",
        "\n",
        "    def __init__(self):\n",
        "\n",
        "        deckofcards = np.arange(52)\n",
        "\n",
        "        np.random.shuffle(deckofcards)\n",
        "\n",
        "        deck_list = deckofcards.tolist()\n",
        "\n",
        "        self.deckofcards = deck_list\n",
        "\n",
        "\n",
        "    def draw_card(self):\n",
        "\n",
        "        return self.deckofcards.pop(0)\n",
        "\n",
        "\n",
        "    def deal_hand(self):\n",
        "\n",
        "        hand_size = 10\n",
        "        hand = []\n",
        "\n",
        "        for i in range(hand_size):\n",
        "            hand.append(self.deckofcards.pop(0))\n",
        "\n",
        "        return hand\n",
        "\n",
        "    \n",
        "    def add_to_deck(self, card):\n",
        "\n",
        "        self.deckofcards.append(card)\n",
        "        np.random.shuffle(self.deckofcards)"
      ]
    },
    {
      "cell_type": "code",
      "source": [
        "class DiscardBoard():\n",
        "\n",
        "    def __init__(self):\n",
        "\n",
        "        self.discarded = []\n",
        "\n",
        "\n",
        "    def add_to_board(self, discarded_card):\n",
        "\n",
        "        self.discarded.append(discarded_card)\n",
        "\n",
        "\n",
        "    def remove_from_board(self, discarded_card):\n",
        "\n",
        "        self.discarded.remove(discarded_card)\n",
        "\n",
        "\n",
        "    def discarded_cards_exist(self):\n",
        "\n",
        "        return (len(self.discarded) > 0)"
      ],
      "metadata": {
        "id": "LPzv-BkS7vVH"
      },
      "execution_count": 3,
      "outputs": []
    },
    {
      "cell_type": "code",
      "source": [
        "class PlayerBoard():\n",
        "\n",
        "    def __init__(self, initial_hand):\n",
        "\n",
        "        self.hand = initial_hand[:]\n",
        "\n",
        "\n",
        "    def add_card(self, card):\n",
        "\n",
        "        self.hand.append(card)\n",
        "\n",
        "\n",
        "    def discard_card(self, card):\n",
        "\n",
        "        self.hand.remove(card)\n",
        "        \n",
        "\n",
        "    def card_exists(self, card):\n",
        "\n",
        "        return (card in self.hand)"
      ],
      "metadata": {
        "id": "b1Ul_MGt8W9e"
      },
      "execution_count": 4,
      "outputs": []
    },
    {
      "cell_type": "code",
      "source": [
        "def inital_discard(deck, discard_board):\n",
        "\n",
        "    new_card = deck.draw_card()\n",
        "    discard_board.add_to_board(new_card)\n",
        "\n",
        "    return new_card\n",
        "\n",
        "\n",
        "def draw_deck_card(player_board, deck):\n",
        "\n",
        "    new_card = deck.draw_card()\n",
        "    player_board.add_card(new_card)\n",
        "\n",
        "    return new_card\n",
        "\n",
        "\n",
        "def draw_discarded_card(player_board, discard_board, discard):\n",
        "\n",
        "    discard_board.remove_from_board(discard)\n",
        "    player_board.add_card(discard)\n",
        "    \n",
        "\n",
        "def discard_hand_card(player_board, discard_board, card):\n",
        "\n",
        "    discard_board.add_to_board(card)\n",
        "    player_board.discard_card(card)"
      ],
      "metadata": {
        "id": "819HooNhO2ct"
      },
      "execution_count": 5,
      "outputs": []
    },
    {
      "cell_type": "code",
      "source": [
        "def find_sets(player_hand):\n",
        "\n",
        "    num_sets = 0\n",
        "    four_card_set = False\n",
        "\n",
        "    map_card_num = {}\n",
        "\n",
        "    for hand_card in player_hand:\n",
        "\n",
        "        card_value = int(hand_card % 13)\n",
        "\n",
        "        if card_value in map_card_num.keys():\n",
        "\n",
        "            number_card_updated = map_card_num.get(card_value) + 1\n",
        "            map_hand_card = {card_value : number_card_updated}\n",
        "            map_card_num.update(map_hand_card)\n",
        "\n",
        "            if map_card_num.get(card_value) == 3:\n",
        "\n",
        "                num_sets += 1\n",
        "\n",
        "            if map_card_num.get(card_value) == 4:\n",
        "\n",
        "                four_card_set = True\n",
        "\n",
        "        else:\n",
        "\n",
        "            map_card_num[card_value] = 1\n",
        "\n",
        "    return num_sets, four_card_set\n",
        "\n",
        "\n",
        "def find_runs(player_hand):\n",
        "\n",
        "    sorted_hand = player_hand[:]\n",
        "    sorted_hand.sort()\n",
        "\n",
        "    num_runs = 0\n",
        "    card_runs = []\n",
        "    cards_in_run = []\n",
        "    four_card_run = False\n",
        "\n",
        "    for hand_card in range(len(sorted_hand) - 2):\n",
        "\n",
        "        first_card = sorted_hand[hand_card]\n",
        "        second_card = sorted_hand[hand_card + 1]\n",
        "        third_card = sorted_hand[hand_card + 2]\n",
        "\n",
        "        if first_card in cards_in_run or second_card in cards_in_run or third_card in cards_in_run:\n",
        "\n",
        "            continue\n",
        "\n",
        "        if (first_card + 1) == second_card and (first_card + 2) == third_card:\n",
        "\n",
        "            num_runs += 1\n",
        "\n",
        "            if not four_card_run and (hand_card + 3) < len(sorted_hand) and (first_card + 3) == sorted_hand[hand_card + 3]:\n",
        "\n",
        "                fourth_card = sorted_hand[hand_card + 3]\n",
        "\n",
        "                card_runs.append([first_card, second_card, third_card, fourth_card])\n",
        "\n",
        "                cards_in_run.append(first_card)\n",
        "                cards_in_run.append(second_card)\n",
        "                cards_in_run.append(third_card)\n",
        "                cards_in_run.append(fourth_card)\n",
        "\n",
        "                four_card_run = True\n",
        "            \n",
        "            else:\n",
        "\n",
        "                card_runs.append([first_card, second_card, third_card])\n",
        "\n",
        "                cards_in_run.append(first_card)\n",
        "                cards_in_run.append(second_card)\n",
        "                cards_in_run.append(third_card)\n",
        "\n",
        "    return num_runs, card_runs, cards_in_run, four_card_run\n",
        "\n",
        "\n",
        "def check_victory(player_hand):\n",
        "\n",
        "    player_hand_copy = player_hand[:]\n",
        "    num_runs, card_runs, cards_in_run, four_card_run = find_runs(player_hand_copy)\n",
        "\n",
        "    updated_hand = [cards for cards in player_hand if cards not in cards_in_run]\n",
        "    num_sets, four_card_set = find_sets(updated_hand)\n",
        "\n",
        "    four_combination = four_card_set or four_card_run\n",
        "\n",
        "    return (four_combination and (num_sets + num_runs) >= 3)\n",
        "\n",
        "\n",
        "def calculate_score(player_board):\n",
        "\n",
        "    score = 0\n",
        "\n",
        "    player_hand = player_board.hand[:]\n",
        "    num_sets, four_card_set = find_sets(player_hand)\n",
        "    num_runs, card_runs, cards_in_run, four_card_run = find_runs(player_hand)\n",
        "\n",
        "    # each additinal set/run is worth more than the set/run before it as \n",
        "    # it becomes harder to make those combinations and greatly imporves \n",
        "    # the chace of the player to win\n",
        "\n",
        "    for i in range(num_sets):\n",
        "\n",
        "        score += pow(10, i+1)\n",
        "\n",
        "    for j in range(num_runs):\n",
        "\n",
        "        score += pow(10, num_sets+j+1)\n",
        "\n",
        "    if four_card_set or four_card_run:\n",
        "\n",
        "        score += 1000\n",
        "\n",
        "    if check_victory(player_hand):\n",
        "\n",
        "        score += 1000000000\n",
        "\n",
        "    return score"
      ],
      "metadata": {
        "id": "1FJ0ygC4P8MV"
      },
      "execution_count": 6,
      "outputs": []
    },
    {
      "cell_type": "code",
      "source": [
        "class GameBoard():\n",
        "\n",
        "    def __init__(self):\n",
        "\n",
        "        # 52 inital cards, 10 cards for each hand, 1 top discard\n",
        "        self.cards_remaining = 52 - 21\n",
        "        self.moves_made = 0\n",
        "\n",
        "        self.deck = Deck()\n",
        "\n",
        "        self.p1_board = PlayerBoard(self.deck.deal_hand())\n",
        "        self.p2_board = PlayerBoard(self.deck.deal_hand())\n",
        "\n",
        "        self.discard_board = DiscardBoard()\n",
        "\n",
        "\n",
        "    def report_score(self, player):\n",
        "\n",
        "        if (player == 1):\n",
        "\n",
        "            player_board = self.p1_board\n",
        "\n",
        "        else:\n",
        "\n",
        "            player_board = self.p2_board\n",
        "\n",
        "        return calculate_score(player_board)"
      ],
      "metadata": {
        "id": "3KL4UGSz7huY"
      },
      "execution_count": 7,
      "outputs": []
    },
    {
      "cell_type": "code",
      "source": [
        "def pack_action(action, card, discard):\n",
        "\n",
        "    return (action, card, discard)\n",
        "\n",
        "\n",
        "def unpack_action(pack_action):\n",
        "\n",
        "    action = pack_action[0]\n",
        "    card = pack_action[1]\n",
        "    discard = pack_action[2]\n",
        "\n",
        "    return action, card, discard"
      ],
      "metadata": {
        "id": "ADiHSWIsdcOc"
      },
      "execution_count": 8,
      "outputs": []
    },
    {
      "cell_type": "code",
      "source": [
        "def make_move(action, card, discard, player_board, discard_board, deck):\n",
        "\n",
        "    # action = 1 -- draw from deck\n",
        "    # action = 2 -- take from discard\n",
        "    if action == 1:\n",
        "\n",
        "        drew = draw_deck_card(player_board, deck)\n",
        "        \n",
        "    else:\n",
        "\n",
        "        draw_discarded_card(player_board, discard_board, card)\n",
        "\n",
        "    player_won = check_victory(player_board.hand)\n",
        "    discard_hand_card(player_board, discard_board, discard)\n",
        "\n",
        "    return player_won"
      ],
      "metadata": {
        "id": "HlZwKbg4PZgr"
      },
      "execution_count": 9,
      "outputs": []
    },
    {
      "cell_type": "code",
      "source": [
        "def get_observation(state, player):\n",
        "\n",
        "    obs_player = np.copy(state)\n",
        "\n",
        "    if player == 1:\n",
        "\n",
        "        opp = 2\n",
        "\n",
        "    else:\n",
        "\n",
        "        opp = 1\n",
        "    \n",
        "    for idx in range(len(obs_player)):\n",
        "\n",
        "        if obs_player[idx] == opp:\n",
        "\n",
        "            obs_player[idx] = 0\n",
        "\n",
        "    return obs_player"
      ],
      "metadata": {
        "id": "Qfv7cNweFXos"
      },
      "execution_count": 10,
      "outputs": []
    },
    {
      "cell_type": "code",
      "source": [
        "class SimplifiedGinRummyEnv(gym.Env):\n",
        "\n",
        "    def __init__(self):\n",
        "\n",
        "        self.__version__ = \"0.0.1\"\n",
        "\n",
        "        self.gameboard = GameBoard()\n",
        "        self.state = self.initialize_state()\n",
        "        self.top_discard = inital_discard(self.gameboard.deck, self.gameboard.discard_board)\n",
        "\n",
        "        # actions:\n",
        "        #   draw from deck -- discard 1 of the 11 cards in hand\n",
        "        #   draw from discard -- discard 1 of the other 10 cards in hand\n",
        "        self.action_space = spaces.Discrete(21)\n",
        "        self.observation_space = spaces.Box(low=0, high=1, shape=(52,), dtype=np.int8)\n",
        "\n",
        "\n",
        "    def initialize_state(self):\n",
        "\n",
        "        state_vec = np.zeros(52, dtype=np.int8)\n",
        "\n",
        "        for deck_card in self.gameboard.deck.deckofcards:\n",
        "\n",
        "            state_vec[deck_card] = 0\n",
        "\n",
        "        for p1_hand_card in self.gameboard.p1_board.hand:\n",
        "\n",
        "            state_vec[p1_hand_card] = 1\n",
        "\n",
        "        for p2_hand_card in self.gameboard.p2_board.hand:\n",
        "\n",
        "            state_vec[p2_hand_card] = 2\n",
        "\n",
        "        for discard_card in self.gameboard.discard_board.discarded:\n",
        "\n",
        "            state_vec[discard_card] = 3\n",
        "\n",
        "        return state_vec\n",
        "\n",
        "\n",
        "    def step(self, pack_action, player):\n",
        "\n",
        "        finished = False\n",
        "\n",
        "        if (player == 1):\n",
        "            player_board = self.gameboard.p1_board\n",
        "        else:\n",
        "            player_board = self.gameboard.p2_board\n",
        "\n",
        "        action, card, discard = unpack_action(pack_action)\n",
        "\n",
        "        # Add back all discarded cards to deck and continue\n",
        "        if self.gameboard.cards_remaining == 0 and action == 1:\n",
        "\n",
        "            for card in self.gameboard.discard_board:\n",
        "\n",
        "                self.gameboard.discard_board.remove_from_board(card)\n",
        "                self.gameboard.deck.add_to_deck(card)\n",
        "                self.gameboard.cards_remaining += 1\n",
        "\n",
        "                self.state[card] = 0 # Add back to deck\n",
        "\n",
        "            self.top_discard = inital_discard(self.gameboard.deck, self.gameboard.discard_board)\n",
        "\n",
        "        finished = make_move(action, card, discard, player_board, self.gameboard.discard_board, self.gameboard.deck)\n",
        "        self.gameboard.moves_made += 1\n",
        "\n",
        "        if self.gameboard.moves_made > 100:\n",
        "\n",
        "            finished = True\n",
        "\n",
        "        self.top_discard = discard\n",
        "\n",
        "        # Update state\n",
        "        self.state[card] = player # 1 if p1; 2 if p2\n",
        "        self.state[discard] = 3 # Add to discard pile\n",
        "\n",
        "        if (action == 1):\n",
        "\n",
        "            self.gameboard.cards_remaining -= 1\n",
        "\n",
        "        reward = self.gameboard.report_score(player)\n",
        "\n",
        "        return (reward, finished)\n",
        "\n",
        "\n",
        "    def reset(self):\n",
        "\n",
        "        self.gameboard = GameBoard()\n",
        "        self.state = self.initialize_state()\n",
        "        self.top_discard = inital_discard(self.gameboard.deck, self.gameboard.discard_board)"
      ],
      "metadata": {
        "id": "bLbWo2B638p2"
      },
      "execution_count": 11,
      "outputs": []
    },
    {
      "cell_type": "code",
      "source": [
        "def find_all_valid_actions(player_board, deck, top_discard):\n",
        "\n",
        "    hand = player_board.hand\n",
        "\n",
        "    top_deck = None\n",
        "\n",
        "    if len(deck.deckofcards) > 0:\n",
        "    \n",
        "        top_deck = deck.deckofcards[0]\n",
        "\n",
        "    valid_actions = []\n",
        "\n",
        "    # take from discard; will not discard taken card as it is being chosen\n",
        "    for card in hand:\n",
        "\n",
        "        valid_action = pack_action(2, top_discard, card)\n",
        "        valid_actions.append(valid_action)\n",
        "\n",
        "    if top_deck is not None:\n",
        "\n",
        "        # draw from deck\n",
        "        for card in hand:\n",
        "\n",
        "            valid_action = pack_action(1, top_deck, card)\n",
        "            valid_actions.append(valid_action)\n",
        "\n",
        "        # can also discard the card drawn from deck\n",
        "        valid_action = pack_action(1, top_deck, top_deck)\n",
        "        valid_actions.append(valid_action)\n",
        "\n",
        "    return valid_actions\n",
        "    "
      ],
      "metadata": {
        "id": "-TyYkwQ6QF8A"
      },
      "execution_count": 12,
      "outputs": []
    },
    {
      "cell_type": "markdown",
      "source": [
        "# Create DQN"
      ],
      "metadata": {
        "id": "x_FVWMeH-LaB"
      }
    },
    {
      "cell_type": "code",
      "source": [
        "LEARNING_RATE = 0.0005\n",
        "BATCH_SIZE = 512\n",
        "\n",
        "GAMMA = 0.99\n",
        "LAMBDA = 0.0001      # speed of decay\n",
        "\n",
        "MODEL_NAME = 'dqn_gin_rummy_v1'"
      ],
      "metadata": {
        "id": "-GWth0wlQLON"
      },
      "execution_count": 13,
      "outputs": []
    },
    {
      "cell_type": "code",
      "source": [
        "def huber_loss(y_true, y_pred):\n",
        "\n",
        "    HUBER_LOSS_DELTA = 1.0\n",
        "\n",
        "    err = y_true - y_pred\n",
        "\n",
        "    cond = K.abs(err) < HUBER_LOSS_DELTA\n",
        "    L2 = 0.5 * K.square(err)\n",
        "    L1 = HUBER_LOSS_DELTA * (K.abs(err) - 0.5 * HUBER_LOSS_DELTA)\n",
        "\n",
        "    loss = tf.where(cond, L2, L1)\n",
        "\n",
        "    return K.mean(loss)"
      ],
      "metadata": {
        "id": "QC8EZBKBQOHa"
      },
      "execution_count": 14,
      "outputs": []
    },
    {
      "cell_type": "markdown",
      "source": [
        "## Model"
      ],
      "metadata": {
        "id": "ctT8Ngve-SD0"
      }
    },
    {
      "cell_type": "code",
      "source": [
        "class Brain:\n",
        "\n",
        "    def __init__(self, stateCnt, actionCnt):\n",
        "\n",
        "        self.stateCnt = stateCnt\n",
        "        self.actionCnt = actionCnt\n",
        "\n",
        "        self.model = self._createModel()\n",
        "        self.model_ = self._createModel()\n",
        "\n",
        "\n",
        "    def _createModel(self):\n",
        "\n",
        "        model = Sequential()\n",
        "\n",
        "        model.add(Dense(units=512, activation='relu', input_dim=self.stateCnt))\n",
        "        model.add(Dense(128, activation='relu'))\n",
        "        model.add(Dense(128, activation='relu'))\n",
        "        model.add(Dense(units=self.actionCnt, activation='relu'))\n",
        "\n",
        "        opt = tf.keras.optimizers.RMSprop(learning_rate=LEARNING_RATE)\n",
        "        model.compile(loss=huber_loss, optimizer=opt)\n",
        "\n",
        "        return model\n",
        "\n",
        "\n",
        "    def train(self, x, y, epoch=1, verbose=0):\n",
        "\n",
        "        self.model.fit(x, y, batch_size=BATCH_SIZE, epochs=epoch, verbose=verbose)\n",
        "\n",
        "\n",
        "    def evaluate(self, x, y):\n",
        "\n",
        "        return self.model.evaluate(x, y, batch_size=BATCH_SIZE, verbose=0)\n",
        "\n",
        "\n",
        "    def predict(self, s, target=False):\n",
        "\n",
        "        if target:\n",
        "\n",
        "            return self.model_.predict(s)\n",
        "\n",
        "        else:\n",
        "\n",
        "            return self.model.predict(s)\n",
        "\n",
        "\n",
        "    def predictOne(self, state, target=False):\n",
        "\n",
        "        return self.predict(state.reshape(1, self.stateCnt), target).flatten()\n",
        "\n",
        "    \n",
        "    def predict_next_action(self, state, player_board, deck, top_discard, target=False):\n",
        "\n",
        "        valid_actions = find_all_valid_actions(player_board, deck, top_discard)\n",
        "\n",
        "        next_Qs = self.predictOne(state, target)\n",
        "        idx = np.argmax(next_Qs)\n",
        "\n",
        "        while idx not in range(len(valid_actions)):\n",
        "\n",
        "            next_Qs = np.delete(next_Qs, idx)\n",
        "            idx = np.argmax(next_Qs)\n",
        "\n",
        "        return valid_actions[idx], idx\n",
        "\n",
        "\n",
        "    def updateTargetModel(self):\n",
        "\n",
        "        self.model_.set_weights(self.model.get_weights())"
      ],
      "metadata": {
        "id": "WB8NTfrmQYJC"
      },
      "execution_count": 15,
      "outputs": []
    },
    {
      "cell_type": "code",
      "source": [
        "class Memory:   # stored as ( s, a_num, r, s_ )\n",
        "\n",
        "    samples = []\n",
        "\n",
        "    def __init__(self, capacity):\n",
        "\n",
        "        self.capacity = capacity\n",
        "\n",
        "\n",
        "    def add(self, sample):\n",
        "\n",
        "        self.samples.append(sample)        \n",
        "\n",
        "        if len(self.samples) > self.capacity:\n",
        "\n",
        "            self.samples.pop(0)\n",
        "\n",
        "\n",
        "    def sample(self, n):\n",
        "\n",
        "        n = min(n, len(self.samples))\n",
        "        return random.sample(self.samples, n)\n",
        "\n",
        "\n",
        "    def isFull(self):\n",
        "\n",
        "        return len(self.samples) >= self.capacity"
      ],
      "metadata": {
        "id": "g1oWm6dgmETz"
      },
      "execution_count": 16,
      "outputs": []
    },
    {
      "cell_type": "code",
      "source": [
        "MEMORY_CAPACITY = 200000\n",
        "\n",
        "MAX_EPSILON = 1\n",
        "MIN_EPSILON = 0.01\n",
        "\n",
        "UPDATE_TARGET_FREQUENCY = 5\n",
        "NUM_EPISODES = 100"
      ],
      "metadata": {
        "id": "pZOBlZFxQkgB"
      },
      "execution_count": 17,
      "outputs": []
    },
    {
      "cell_type": "markdown",
      "source": [
        "## Agents"
      ],
      "metadata": {
        "id": "JclvjQSx-V21"
      }
    },
    {
      "cell_type": "code",
      "source": [
        "class Agent:\n",
        "\n",
        "    def __init__(self, stateCnt, actionCnt):\n",
        "\n",
        "        self.stateCnt = stateCnt\n",
        "        self.actionCnt = actionCnt\n",
        "\n",
        "        self.steps = 0\n",
        "        self.epsilon = MAX_EPSILON\n",
        "\n",
        "        self.brain = Brain(stateCnt, actionCnt)\n",
        "        self.memory = Memory(MEMORY_CAPACITY)\n",
        "\n",
        "        self.rewards_log = np.zeros(NUM_EPISODES, dtype=np.int16)\n",
        "        self.scores_log = np.zeros(NUM_EPISODES, dtype=np.int16)\n",
        "        self.losses_log = np.zeros(NUM_EPISODES, dtype=np.int16)\n",
        "\n",
        "        self.episode = 0\n",
        "\n",
        "        \n",
        "    def act(self, s, player_board, deck, top_discard):\n",
        "\n",
        "        if random.random() < self.epsilon:\n",
        "\n",
        "            valid_actions = find_all_valid_actions(player_board, deck, top_discard)\n",
        "            random_move = random.randint(0, len(valid_actions)-1)\n",
        "\n",
        "            return valid_actions[random_move], random_move\n",
        "\n",
        "        else:\n",
        "\n",
        "            return self.brain.predict_next_action(s, player_board, deck, top_discard)\n",
        "\n",
        "\n",
        "    def observe(self, sample):  # in (s, a_num, r, s_) format\n",
        "\n",
        "        self.memory.add(sample)        \n",
        "\n",
        "        if self.steps % UPDATE_TARGET_FREQUENCY == 0:\n",
        "\n",
        "            self.brain.updateTargetModel()\n",
        "\n",
        "        # slowly decrease Epsilon based on our eperience\n",
        "        self.steps += 1\n",
        "        self.epsilon = MIN_EPSILON + (MAX_EPSILON - MIN_EPSILON) * math.exp(-LAMBDA * self.steps)\n",
        "\n",
        "\n",
        "    def replay(self):    \n",
        "\n",
        "        batch = self.memory.sample(BATCH_SIZE)\n",
        "        batchLen = len(batch)\n",
        "\n",
        "        no_state = np.zeros(self.stateCnt)\n",
        "\n",
        "        states = np.array([ o[0] for o in batch ])\n",
        "        states_ = np.array([ (no_state if o[3] is None else o[3]) for o in batch ])\n",
        "\n",
        "        p = self.brain.predict(states)\n",
        "        p_ = self.brain.predict(states_, target=True)\n",
        "\n",
        "        x = np.zeros((batchLen, self.stateCnt))\n",
        "        y = np.zeros((batchLen, self.actionCnt))\n",
        "        \n",
        "        for i in range(batchLen):\n",
        "\n",
        "            o = batch[i]\n",
        "\n",
        "            s = o[0] \n",
        "            a_num = o[1]\n",
        "            r = o[2]\n",
        "            s_ = o[3]\n",
        "            \n",
        "            t = p[i]\n",
        "\n",
        "            if s_ is None:\n",
        "\n",
        "                t[a_num] = r\n",
        "\n",
        "            else:\n",
        "\n",
        "                t[a_num] = r + GAMMA * np.amax(p_[i])\n",
        "\n",
        "            x[i] = s\n",
        "            y[i] = t\n",
        "\n",
        "        self.brain.train(x, y)\n",
        "\n",
        "        return self.brain.evaluate(x, y)"
      ],
      "metadata": {
        "id": "AnWPpBLlQkkj"
      },
      "execution_count": 18,
      "outputs": []
    },
    {
      "cell_type": "code",
      "source": [
        "class RandomAgent:\n",
        "    \n",
        "    def __init__(self, actionCnt):\n",
        "\n",
        "        self.memory = Memory(MEMORY_CAPACITY)\n",
        "        self.exp = 0\n",
        "\n",
        "\n",
        "    def act(self, s, player_board, deck, top_discard):\n",
        "\n",
        "        valid_actions = find_all_valid_actions(player_board, deck, top_discard)\n",
        "        random_move = random.randint(0, len(valid_actions) - 1)\n",
        "\n",
        "        return valid_actions[random_move], random_move\n",
        "            \n",
        "\n",
        "    def observe(self, sample):  # in (s, a_num, r, s_) format\n",
        "\n",
        "        self.memory.add(sample)\n",
        "        self.exp += 1\n",
        "\n",
        "\n",
        "    def replay(self):\n",
        "\n",
        "        pass\n",
        "\n",
        "\n",
        "    def save(self):\n",
        "\n",
        "        self.memory.tree.save()"
      ],
      "metadata": {
        "id": "MJYt5vR9Jhks"
      },
      "execution_count": 19,
      "outputs": []
    },
    {
      "cell_type": "markdown",
      "source": [
        "## Training Environment"
      ],
      "metadata": {
        "id": "JXM9IxO_-YIL"
      }
    },
    {
      "cell_type": "code",
      "source": [
        "class Environment:\n",
        "\n",
        "    def __init__(self):\n",
        "\n",
        "        self.env = SimplifiedGinRummyEnv()\n",
        "\n",
        "\n",
        "    def run(self, agent, logRewards=False):\n",
        "\n",
        "        self.env.reset()\n",
        "        done = False\n",
        "\n",
        "        R = 0 \n",
        "        cum_loss = 0\n",
        "\n",
        "        while not done:            \n",
        "\n",
        "            (r, done, loss) = self.run_agent(agent)\n",
        "\n",
        "            R += r\n",
        "            cum_loss += loss\n",
        "\n",
        "        if logRewards:\n",
        "\n",
        "            agent.rewards_log[agent.episode] = R\n",
        "            agent.losses_log[agent.episode] = cum_loss\n",
        "\n",
        "            dqn_score = self.env.gameboard.report_score(1)\n",
        "            agent.scores_log[agent.episode] = dqn_score\n",
        "\n",
        "            print('Episode: ', agent.episode)                \n",
        "\n",
        "            agent.episode += 1\n",
        "\n",
        "\n",
        "    def run_agent(self, agent):\n",
        "\n",
        "        rewards = [0, 0]\n",
        "        done_list = [False, False]\n",
        "        Loss = 0\n",
        "\n",
        "        for i in range(2):\n",
        "\n",
        "            player = i + 1\n",
        "            state = get_observation(self.env.state, player)\n",
        "\n",
        "            if (player == 1):\n",
        "\n",
        "                player_board = self.env.gameboard.p1_board\n",
        "\n",
        "            elif (player == 2):\n",
        "\n",
        "                player_board = self.env.gameboard.p2_board\n",
        "\n",
        "                if (done_list[0]):\n",
        "\n",
        "                    break\n",
        "\n",
        "            top_discard = self.env.top_discard\n",
        "\n",
        "            s = state.copy()\n",
        "\n",
        "            if player == 1:\n",
        "\n",
        "                a, a_num = agent.act(state, player_board, self.env.gameboard.deck, self.env.top_discard)\n",
        "\n",
        "            else:\n",
        "\n",
        "                valid_actions = find_all_valid_actions(player_board, self.env.gameboard.deck, self.env.top_discard)\n",
        "                a_num = random.randint(0, len(valid_actions)-1)\n",
        "\n",
        "                a = valid_actions[a_num]\n",
        "\n",
        "            (r, done) = self.env.step(a, player)\n",
        "\n",
        "            if done: # terminal state\n",
        "\n",
        "                s_ = None\n",
        "\n",
        "            else:\n",
        "\n",
        "                s_ = state.copy()\n",
        "\n",
        "            if player == 1:\n",
        "\n",
        "                agent.observe((s, a_num, r, s_))\n",
        "                loss_ = agent.replay()\n",
        "\n",
        "                if loss_ is not None:\n",
        "\n",
        "                    Loss = loss_\n",
        "\n",
        "            rewards[i] = r\n",
        "            done_list[i] = done\n",
        "\n",
        "        R = rewards[0] - rewards[1]\n",
        "        Done = done_list[0] or done_list[1]\n",
        "\n",
        "        return (R, Done, Loss)"
      ],
      "metadata": {
        "id": "BpVqpYqVQphb"
      },
      "execution_count": 20,
      "outputs": []
    },
    {
      "cell_type": "markdown",
      "source": [
        "# Train DQN"
      ],
      "metadata": {
        "id": "gOahQvV3-c0p"
      }
    },
    {
      "cell_type": "code",
      "source": [
        "env = Environment()\n",
        "\n",
        "stateCnt  = env.env.observation_space.shape[0]\n",
        "actionCnt = env.env.action_space.n\n",
        "\n",
        "agent = Agent(stateCnt, actionCnt)\n",
        "randomAgent = RandomAgent(actionCnt)\n",
        "\n",
        "try:\n",
        "\n",
        "    while randomAgent.memory.isFull() == False:\n",
        "\n",
        "        env.run(randomAgent)\n",
        "\n",
        "    agent.memory.samples = randomAgent.memory.samples\n",
        "    randomAgent = None\n",
        "\n",
        "    print('Beginning learning')\n",
        "    while True:\n",
        "      \n",
        "      env.run(agent, logRewards=True)\n",
        "\n",
        "except Exception as e:\n",
        "\n",
        "    print()\n",
        "\n",
        "finally:\n",
        "\n",
        "    agent.brain.model.save('logs/Rummy-dqn-network--' + MODEL_NAME + '.h5')\n",
        "    agent.brain.model_.save('logs/Rummy-t-dqn_network--' + MODEL_NAME + '.h5')\n",
        "\n",
        "    np.save('logs/dqn-Rummy-rewards--' + MODEL_NAME, agent.rewards_log)\n",
        "    np.save('logs/dqn-Rummy-scores--' + MODEL_NAME, agent.scores_log)\n",
        "    np.save('logs/dqn-Rummy-losses--' + MODEL_NAME, agent.losses_log)"
      ],
      "metadata": {
        "id": "P_iBu_cwSili"
      },
      "execution_count": null,
      "outputs": []
    },
    {
      "cell_type": "markdown",
      "source": [
        "# Visualize Results"
      ],
      "metadata": {
        "id": "kSSWeZou-id-"
      }
    },
    {
      "cell_type": "code",
      "source": [
        "print('Number of Games Won by DQN Agent:', (agent.rewards_log > 0).sum(), '/', NUM_EPISODES)"
      ],
      "metadata": {
        "colab": {
          "base_uri": "https://localhost:8080/"
        },
        "id": "RaRsOomVBhzn",
        "outputId": "e61dfe22-0469-4593-db30-8101bd58f746"
      },
      "execution_count": 22,
      "outputs": [
        {
          "output_type": "stream",
          "name": "stdout",
          "text": [
            "Number of Games Won by DQN Agent: 52 / 100\n"
          ]
        }
      ]
    },
    {
      "cell_type": "code",
      "source": [
        "import matplotlib.pyplot as plt\n",
        "\n",
        "plt.plot(agent.rewards_log)\n",
        "\n",
        "plt.title('DQN Agent Net Rewards Plot')\n",
        "plt.xlabel('Episode')\n",
        "plt.ylabel('Reward')\n",
        "\n",
        "plt.show()"
      ],
      "metadata": {
        "colab": {
          "base_uri": "https://localhost:8080/",
          "height": 295
        },
        "id": "qEpPuSTDrWW5",
        "outputId": "e9b08141-1b7c-48dc-aa4c-b4ad1a469b64"
      },
      "execution_count": 23,
      "outputs": [
        {
          "output_type": "display_data",
          "data": {
            "image/png": "[encoded data removed]",
            "text/plain": [
              "<Figure size 432x288 with 1 Axes>"
            ]
          },
          "metadata": {
            "needs_background": "light"
          }
        }
      ]
    },
    {
      "cell_type": "code",
      "source": [
        "m, b = np.polyfit(np.arange(NUM_EPISODES), agent.scores_log, 1)\n",
        "\n",
        "plt.plot(agent.scores_log)\n",
        "plt.plot(np.arange(NUM_EPISODES), m*np.arange(NUM_EPISODES) + b)\n",
        "\n",
        "plt.title('DQN Agent Scores Plot')\n",
        "plt.xlabel('Episode')\n",
        "plt.ylabel('Score')\n",
        "\n",
        "plt.show()"
      ],
      "metadata": {
        "colab": {
          "base_uri": "https://localhost:8080/",
          "height": 295
        },
        "id": "7kjjRjXjXxGW",
        "outputId": "2a07dc05-6f6d-4dbe-eac9-d86d6c766697"
      },
      "execution_count": 24,
      "outputs": [
        {
          "output_type": "display_data",
          "data": {
            "image/png": "[encoded data removed]",
            "text/plain": [
              "<Figure size 432x288 with 1 Axes>"
            ]
          },
          "metadata": {
            "needs_background": "light"
          }
        }
      ]
    },
    {
      "cell_type": "code",
      "source": [
        "plt.plot(agent.losses_log)\n",
        "\n",
        "plt.title('DQN Agent Losses Plot')\n",
        "plt.xlabel('Episode')\n",
        "plt.ylabel('Loss')\n",
        "\n",
        "plt.show()"
      ],
      "metadata": {
        "colab": {
          "base_uri": "https://localhost:8080/",
          "height": 295
        },
        "id": "wPPiXeWuv4ul",
        "outputId": "9b9cf582-9713-45de-9cec-406b64cb291b"
      },
      "execution_count": 25,
      "outputs": [
        {
          "output_type": "display_data",
          "data": {
            "image/png": "[encoded data removed]",
            "text/plain": [
              "<Figure size 432x288 with 1 Axes>"
            ]
          },
          "metadata": {
            "needs_background": "light"
          }
        }
      ]
    }
  ]
}